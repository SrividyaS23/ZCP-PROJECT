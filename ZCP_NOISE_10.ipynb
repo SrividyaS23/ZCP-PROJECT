{
  "nbformat": 4,
  "nbformat_minor": 0,
  "metadata": {
    "colab": {
      "name": "ZCP-NOISE-10",
      "provenance": [],
      "collapsed_sections": [],
      "authorship_tag": "ABX9TyNkfZTfrqlYbfXq58r+bNnT",
      "include_colab_link": true
    },
    "kernelspec": {
      "name": "python3",
      "display_name": "Python 3"
    },
    "language_info": {
      "name": "python"
    }
  },
  "cells": [
    {
      "cell_type": "markdown",
      "metadata": {
        "id": "view-in-github",
        "colab_type": "text"
      },
      "source": [
        "<a href=\"https://colab.research.google.com/github/SrividyaS23/ZCP-PROJECT/blob/main/ZCP_NOISE_10.ipynb\" target=\"_parent\"><img src=\"https://colab.research.google.com/assets/colab-badge.svg\" alt=\"Open In Colab\"/></a>"
      ]
    },
    {
      "cell_type": "code",
      "execution_count": 1,
      "metadata": {
        "colab": {
          "base_uri": "https://localhost:8080/"
        },
        "id": "W8LlbjUiook3",
        "outputId": "eb3ddfde-0adf-4c97-a42a-ef4410f7f977"
      },
      "outputs": [
        {
          "output_type": "stream",
          "name": "stdout",
          "text": [
            "Mounted at /content/drive\n"
          ]
        }
      ],
      "source": [
        "from google.colab import drive\n",
        "drive.mount('/content/drive')"
      ]
    },
    {
      "cell_type": "code",
      "source": [
        "# importing libraries  \n",
        "import numpy as nm  \n",
        "import matplotlib.pyplot as mtp  \n",
        "import pandas as pd\n"
      ],
      "metadata": {
        "id": "3AMLopVTozMp"
      },
      "execution_count": 2,
      "outputs": []
    },
    {
      "cell_type": "code",
      "source": [
        "col_names = ['slope', 'Intercept', 'R', 'RMSE', 'label']\n",
        "# load dataset\n",
        "dataset03 = pd.read_csv(\"/content/drive/MyDrive/ZCP PROJECT/ZCP-NOISE-10.csv\")\n",
        "dataset03.head()\n"
      ],
      "metadata": {
        "colab": {
          "base_uri": "https://localhost:8080/",
          "height": 206
        },
        "id": "YEkir3vzo5tb",
        "outputId": "fe6c1614-b19b-4049-b2eb-53a86f646e35"
      },
      "execution_count": 3,
      "outputs": [
        {
          "output_type": "execute_result",
          "data": {
            "text/html": [
              "\n",
              "  <div id=\"df-e228ef80-739b-43f8-8338-0f784b901524\">\n",
              "    <div class=\"colab-df-container\">\n",
              "      <div>\n",
              "<style scoped>\n",
              "    .dataframe tbody tr th:only-of-type {\n",
              "        vertical-align: middle;\n",
              "    }\n",
              "\n",
              "    .dataframe tbody tr th {\n",
              "        vertical-align: top;\n",
              "    }\n",
              "\n",
              "    .dataframe thead th {\n",
              "        text-align: right;\n",
              "    }\n",
              "</style>\n",
              "<table border=\"1\" class=\"dataframe\">\n",
              "  <thead>\n",
              "    <tr style=\"text-align: right;\">\n",
              "      <th></th>\n",
              "      <th>slope</th>\n",
              "      <th>Intercept</th>\n",
              "      <th>R</th>\n",
              "      <th>RMSE</th>\n",
              "      <th>label</th>\n",
              "    </tr>\n",
              "  </thead>\n",
              "  <tbody>\n",
              "    <tr>\n",
              "      <th>0</th>\n",
              "      <td>304.139362</td>\n",
              "      <td>-0.004379</td>\n",
              "      <td>0.960208</td>\n",
              "      <td>0.026674</td>\n",
              "      <td>1</td>\n",
              "    </tr>\n",
              "    <tr>\n",
              "      <th>1</th>\n",
              "      <td>325.737473</td>\n",
              "      <td>-0.013271</td>\n",
              "      <td>0.961577</td>\n",
              "      <td>0.027820</td>\n",
              "      <td>0</td>\n",
              "    </tr>\n",
              "    <tr>\n",
              "      <th>2</th>\n",
              "      <td>185.710457</td>\n",
              "      <td>0.050222</td>\n",
              "      <td>0.585479</td>\n",
              "      <td>0.086971</td>\n",
              "      <td>0</td>\n",
              "    </tr>\n",
              "    <tr>\n",
              "      <th>3</th>\n",
              "      <td>240.799882</td>\n",
              "      <td>0.027278</td>\n",
              "      <td>0.640560</td>\n",
              "      <td>0.088389</td>\n",
              "      <td>0</td>\n",
              "    </tr>\n",
              "    <tr>\n",
              "      <th>4</th>\n",
              "      <td>399.485211</td>\n",
              "      <td>-0.080922</td>\n",
              "      <td>0.726429</td>\n",
              "      <td>0.112531</td>\n",
              "      <td>0</td>\n",
              "    </tr>\n",
              "  </tbody>\n",
              "</table>\n",
              "</div>\n",
              "      <button class=\"colab-df-convert\" onclick=\"convertToInteractive('df-e228ef80-739b-43f8-8338-0f784b901524')\"\n",
              "              title=\"Convert this dataframe to an interactive table.\"\n",
              "              style=\"display:none;\">\n",
              "        \n",
              "  <svg xmlns=\"http://www.w3.org/2000/svg\" height=\"24px\"viewBox=\"0 0 24 24\"\n",
              "       width=\"24px\">\n",
              "    <path d=\"M0 0h24v24H0V0z\" fill=\"none\"/>\n",
              "    <path d=\"M18.56 5.44l.94 2.06.94-2.06 2.06-.94-2.06-.94-.94-2.06-.94 2.06-2.06.94zm-11 1L8.5 8.5l.94-2.06 2.06-.94-2.06-.94L8.5 2.5l-.94 2.06-2.06.94zm10 10l.94 2.06.94-2.06 2.06-.94-2.06-.94-.94-2.06-.94 2.06-2.06.94z\"/><path d=\"M17.41 7.96l-1.37-1.37c-.4-.4-.92-.59-1.43-.59-.52 0-1.04.2-1.43.59L10.3 9.45l-7.72 7.72c-.78.78-.78 2.05 0 2.83L4 21.41c.39.39.9.59 1.41.59.51 0 1.02-.2 1.41-.59l7.78-7.78 2.81-2.81c.8-.78.8-2.07 0-2.86zM5.41 20L4 18.59l7.72-7.72 1.47 1.35L5.41 20z\"/>\n",
              "  </svg>\n",
              "      </button>\n",
              "      \n",
              "  <style>\n",
              "    .colab-df-container {\n",
              "      display:flex;\n",
              "      flex-wrap:wrap;\n",
              "      gap: 12px;\n",
              "    }\n",
              "\n",
              "    .colab-df-convert {\n",
              "      background-color: #E8F0FE;\n",
              "      border: none;\n",
              "      border-radius: 50%;\n",
              "      cursor: pointer;\n",
              "      display: none;\n",
              "      fill: #1967D2;\n",
              "      height: 32px;\n",
              "      padding: 0 0 0 0;\n",
              "      width: 32px;\n",
              "    }\n",
              "\n",
              "    .colab-df-convert:hover {\n",
              "      background-color: #E2EBFA;\n",
              "      box-shadow: 0px 1px 2px rgba(60, 64, 67, 0.3), 0px 1px 3px 1px rgba(60, 64, 67, 0.15);\n",
              "      fill: #174EA6;\n",
              "    }\n",
              "\n",
              "    [theme=dark] .colab-df-convert {\n",
              "      background-color: #3B4455;\n",
              "      fill: #D2E3FC;\n",
              "    }\n",
              "\n",
              "    [theme=dark] .colab-df-convert:hover {\n",
              "      background-color: #434B5C;\n",
              "      box-shadow: 0px 1px 3px 1px rgba(0, 0, 0, 0.15);\n",
              "      filter: drop-shadow(0px 1px 2px rgba(0, 0, 0, 0.3));\n",
              "      fill: #FFFFFF;\n",
              "    }\n",
              "  </style>\n",
              "\n",
              "      <script>\n",
              "        const buttonEl =\n",
              "          document.querySelector('#df-e228ef80-739b-43f8-8338-0f784b901524 button.colab-df-convert');\n",
              "        buttonEl.style.display =\n",
              "          google.colab.kernel.accessAllowed ? 'block' : 'none';\n",
              "\n",
              "        async function convertToInteractive(key) {\n",
              "          const element = document.querySelector('#df-e228ef80-739b-43f8-8338-0f784b901524');\n",
              "          const dataTable =\n",
              "            await google.colab.kernel.invokeFunction('convertToInteractive',\n",
              "                                                     [key], {});\n",
              "          if (!dataTable) return;\n",
              "\n",
              "          const docLinkHtml = 'Like what you see? Visit the ' +\n",
              "            '<a target=\"_blank\" href=https://colab.research.google.com/notebooks/data_table.ipynb>data table notebook</a>'\n",
              "            + ' to learn more about interactive tables.';\n",
              "          element.innerHTML = '';\n",
              "          dataTable['output_type'] = 'display_data';\n",
              "          await google.colab.output.renderOutput(dataTable, element);\n",
              "          const docLink = document.createElement('div');\n",
              "          docLink.innerHTML = docLinkHtml;\n",
              "          element.appendChild(docLink);\n",
              "        }\n",
              "      </script>\n",
              "    </div>\n",
              "  </div>\n",
              "  "
            ],
            "text/plain": [
              "        slope  Intercept         R      RMSE  label\n",
              "0  304.139362  -0.004379  0.960208  0.026674      1\n",
              "1  325.737473  -0.013271  0.961577  0.027820      0\n",
              "2  185.710457   0.050222  0.585479  0.086971      0\n",
              "3  240.799882   0.027278  0.640560  0.088389      0\n",
              "4  399.485211  -0.080922  0.726429  0.112531      0"
            ]
          },
          "metadata": {},
          "execution_count": 3
        }
      ]
    },
    {
      "cell_type": "code",
      "source": [
        "from sklearn.preprocessing import MinMaxScaler\n",
        "scaler = MinMaxScaler()\n",
        "data = scaler.fit_transform(dataset03)\n",
        "data"
      ],
      "metadata": {
        "colab": {
          "base_uri": "https://localhost:8080/"
        },
        "id": "FF3rTrtIpRLN",
        "outputId": "8549fadf-30d8-47c3-e9a2-1872f2b4e32f"
      },
      "execution_count": 4,
      "outputs": [
        {
          "output_type": "execute_result",
          "data": {
            "text/plain": [
              "array([[0.69347198, 0.38098398, 0.98486936, 0.04294972, 1.        ],\n",
              "       [0.70418457, 0.38092635, 0.98556032, 0.04544039, 0.        ],\n",
              "       [0.63473167, 0.38133779, 0.79564847, 0.17401918, 0.        ],\n",
              "       ...,\n",
              "       [0.76531566, 0.09021144, 0.9767423 , 0.06845781, 0.        ],\n",
              "       [0.71243177, 0.1591864 , 0.98662465, 0.0142165 , 0.        ],\n",
              "       [0.67442511, 0.20877396, 0.99778683, 0.        , 0.        ]])"
            ]
          },
          "metadata": {},
          "execution_count": 4
        }
      ]
    },
    {
      "cell_type": "code",
      "source": [
        "from sklearn.model_selection import train_test_split\n",
        "df_train, df_test = train_test_split(data, train_size = 0.7, test_size = 0.3, random_state = 100)\n"
      ],
      "metadata": {
        "id": "2MX0FxQdpYCm"
      },
      "execution_count": 5,
      "outputs": []
    },
    {
      "cell_type": "code",
      "source": [
        "y_train = df_train[:,4]\n",
        "X_train = df_train[:,0:4]\n",
        "y_test = df_test[:,4]\n",
        "X_test = df_test[:,0:4]\n"
      ],
      "metadata": {
        "id": "0EZwxWBBpYBc"
      },
      "execution_count": 6,
      "outputs": []
    },
    {
      "cell_type": "code",
      "source": [
        "#Fitting Decision Tree classifier to the training set  \n",
        "from sklearn.ensemble import RandomForestClassifier  \n",
        "classifier= RandomForestClassifier(n_estimators= 4, criterion=\"entropy\")  #criterion=\"entropy\"\n",
        "classifier.fit(X_train, y_train)"
      ],
      "metadata": {
        "colab": {
          "base_uri": "https://localhost:8080/"
        },
        "id": "gyp3VSSnpjlI",
        "outputId": "5832c552-0d67-46f3-f7be-75e3218b9fa4"
      },
      "execution_count": 28,
      "outputs": [
        {
          "output_type": "execute_result",
          "data": {
            "text/plain": [
              "RandomForestClassifier(criterion='entropy', n_estimators=4)"
            ]
          },
          "metadata": {},
          "execution_count": 28
        }
      ]
    },
    {
      "cell_type": "code",
      "source": [
        "#Predicting the test set result  \n",
        "y_pred_test= classifier.predict(X_test)\n",
        "y_pred_train= classifier.predict(X_train)\n"
      ],
      "metadata": {
        "id": "INiiNwjbpmtG"
      },
      "execution_count": 29,
      "outputs": []
    },
    {
      "cell_type": "code",
      "source": [
        "from sklearn import metrics #Import scikit-learn metrics module for accuracy calculation\n",
        "print(\"Testing Accuracy:\",metrics.accuracy_score(y_test, y_pred_test))\n",
        "print(\"Training Accuracy:\",metrics.accuracy_score(y_train, y_pred_train))"
      ],
      "metadata": {
        "colab": {
          "base_uri": "https://localhost:8080/"
        },
        "id": "TkVzFJW6povT",
        "outputId": "807a9c98-0d23-480d-9681-8794c6c34308"
      },
      "execution_count": 30,
      "outputs": [
        {
          "output_type": "stream",
          "name": "stdout",
          "text": [
            "Testing Accuracy: 0.9466666666666667\n",
            "Training Accuracy: 0.9856527977044476\n"
          ]
        }
      ]
    },
    {
      "cell_type": "code",
      "source": [
        "#Fitting Decision Tree classifier to the training set  \n",
        "from sklearn.ensemble import RandomForestClassifier  \n",
        "classifier= RandomForestClassifier(n_estimators= 4, criterion=\"gini\")  #criterion=\"gini\"\n",
        "classifier.fit(X_train, y_train)"
      ],
      "metadata": {
        "colab": {
          "base_uri": "https://localhost:8080/"
        },
        "id": "UiozEaA_ptvD",
        "outputId": "24e06b6d-2fb2-4c37-b7e8-d387d0624726"
      },
      "execution_count": 19,
      "outputs": [
        {
          "output_type": "execute_result",
          "data": {
            "text/plain": [
              "RandomForestClassifier(n_estimators=4)"
            ]
          },
          "metadata": {},
          "execution_count": 19
        }
      ]
    },
    {
      "cell_type": "code",
      "source": [
        "#Predicting the test set result  \n",
        "y_pred_test= classifier.predict(X_test)\n",
        "y_pred_train= classifier.predict(X_train)\n"
      ],
      "metadata": {
        "id": "Gdmbc1T0pz66"
      },
      "execution_count": 20,
      "outputs": []
    },
    {
      "cell_type": "code",
      "source": [
        "from sklearn import metrics #Import scikit-learn metrics module for accuracy calculation\n",
        "print(\"Testing Accuracy:\",metrics.accuracy_score(y_test, y_pred_test))\n",
        "print(\"Training Accuracy:\",metrics.accuracy_score(y_train, y_pred_train))"
      ],
      "metadata": {
        "colab": {
          "base_uri": "https://localhost:8080/"
        },
        "id": "QWcdyhr-p3Tp",
        "outputId": "09363e51-e671-47e2-8dfc-205bd87b8025"
      },
      "execution_count": 21,
      "outputs": [
        {
          "output_type": "stream",
          "name": "stdout",
          "text": [
            "Testing Accuracy: 0.94\n",
            "Training Accuracy: 0.9856527977044476\n"
          ]
        }
      ]
    }
  ]
}